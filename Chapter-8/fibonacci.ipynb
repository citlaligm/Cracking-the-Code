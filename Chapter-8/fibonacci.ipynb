{
 "cells": [
  {
   "cell_type": "code",
   "execution_count": 8,
   "metadata": {
    "collapsed": false
   },
   "outputs": [
    {
     "name": "stdout",
     "output_type": "stream",
     "text": [
      "8\n"
     ]
    }
   ],
   "source": [
    "def fibonacci_recursive(n):\n",
    "    if n == 0 or n == 1:\n",
    "        return n\n",
    "    else:\n",
    "        return fibonacci_recursive(n-1)+fibonacci_recursive(n-2)   \n",
    "\n",
    "##TEST    \n",
    "print(fibonacci_recursive(6))"
   ]
  },
  {
   "cell_type": "code",
   "execution_count": 30,
   "metadata": {
    "collapsed": false
   },
   "outputs": [
    {
     "name": "stdout",
     "output_type": "stream",
     "text": [
      "8\n"
     ]
    }
   ],
   "source": [
    "def fibonacci_dynamic(n, memo=[], init = True):\n",
    "    '''Top-Down Dynamic Programming'''\n",
    "    if init:\n",
    "        for i in range(n):\n",
    "            memo.append(0)\n",
    "        init = False\n",
    "        \n",
    "    if n == 0 or n == 1:\n",
    "        return n\n",
    "    \n",
    "    if memo[n-1] == 0:\n",
    "        memo[n-1] = fibonacci_dynamic(n-1, memo, init = False) + fibonacci_dynamic(n-2, memo, init = False)\n",
    "                \n",
    "    return memo[n-1]\n",
    "\n",
    "##TEST    \n",
    "print(fibonacci_dynamic(6))"
   ]
  },
  {
   "cell_type": "code",
   "execution_count": 9,
   "metadata": {
    "collapsed": false
   },
   "outputs": [
    {
     "name": "stdout",
     "output_type": "stream",
     "text": [
      "8\n"
     ]
    }
   ],
   "source": [
    "def fibonacci_constant_time(n):\n",
    "    ''' Constant time complexity'''\n",
    "    ## First number on the fibonacci series 0,1\n",
    "    ## 0,1,1,2,3,5,8,...\n",
    "    \n",
    "    last = 1\n",
    "    second_last = 0\n",
    "    current_pos = 2\n",
    "    \n",
    "    while(current_pos <= n):\n",
    "        temp = last\n",
    "        last = last + second_last\n",
    "        second_last = temp\n",
    "        current_pos += 1\n",
    "        \n",
    "    return last\n",
    "        \n",
    "##TEST    \n",
    "print(fibonacci_constant_time(6))      \n",
    "    "
   ]
  },
  {
   "cell_type": "code",
   "execution_count": null,
   "metadata": {
    "collapsed": true
   },
   "outputs": [],
   "source": []
  }
 ],
 "metadata": {
  "kernelspec": {
   "display_name": "Python 3",
   "language": "python",
   "name": "python3"
  },
  "language_info": {
   "codemirror_mode": {
    "name": "ipython",
    "version": 3
   },
   "file_extension": ".py",
   "mimetype": "text/x-python",
   "name": "python",
   "nbconvert_exporter": "python",
   "pygments_lexer": "ipython3",
   "version": "3.6.0"
  }
 },
 "nbformat": 4,
 "nbformat_minor": 2
}
