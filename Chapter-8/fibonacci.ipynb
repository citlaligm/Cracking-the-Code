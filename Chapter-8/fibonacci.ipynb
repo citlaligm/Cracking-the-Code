{
 "cells": [
  {
   "cell_type": "code",
   "execution_count": 8,
   "metadata": {
    "collapsed": false
   },
   "outputs": [
    {
     "name": "stdout",
     "output_type": "stream",
     "text": [
      "8\n"
     ]
    }
   ],
   "source": [
    "def fibonacci_recursive(n):\n",
    "    if n == 0 or n == 1:\n",
    "        return n\n",
    "    else:\n",
    "        return fibonacci_recursive(n-1)+fibonacci_recursive(n-2)   \n",
    "\n",
    "##TEST    \n",
    "print(fibonacci_recursive(6))"
   ]
  },
  {
   "cell_type": "code",
   "execution_count": 2,
   "metadata": {
    "collapsed": false
   },
   "outputs": [
    {
     "name": "stdout",
     "output_type": "stream",
     "text": [
      "8\n"
     ]
    }
   ],
   "source": [
    "def fibonacci_dynamic(n, memo=[], init = True):\n",
    "    '''Top-Down Dynamic Programming'''\n",
    "    if init:\n",
    "        #initialize memory with zeros to access it from 1 to n\n",
    "        for i in range(n+1):\n",
    "            memo.append(0)\n",
    "        \n",
    "    if n == 0 or n == 1:\n",
    "        return n\n",
    "    \n",
    "    if memo[n-1] == 0:\n",
    "        memo[n-1] = fibonacci_dynamic(n-1, memo, init = False) \n",
    "    \n",
    "    memo[n] = memo[n-1] + memo[n-2]\n",
    "   \n",
    "    return memo[n]\n",
    "\n",
    "##TEST    \n",
    "print(fibonacci_dynamic(6))"
   ]
  },
  {
   "cell_type": "code",
   "execution_count": 6,
   "metadata": {
    "collapsed": false
   },
   "outputs": [
    {
     "name": "stdout",
     "output_type": "stream",
     "text": [
      "1\n"
     ]
    }
   ],
   "source": [
    "def fibonacci_constant_time(n):\n",
    "    ''' Lineal time complexity and constant space complexity'''\n",
    "    ## First number on the fibonacci series 0,1\n",
    "    ## 0,1,1,2,3,5,8,...\n",
    "    \n",
    "    last = 1\n",
    "    second_last = 0\n",
    "    current_pos = 2\n",
    "    result = n\n",
    "    \n",
    "    while(current_pos <= n):\n",
    "        result = last + second_last\n",
    "        \n",
    "        #update variables for next cycle\n",
    "        current_pos += 1\n",
    "        second_last = last\n",
    "        last = result\n",
    "        \n",
    "    return result\n",
    "        \n",
    "##TEST    \n",
    "print(fibonacci_constant_time(1))      \n",
    "    "
   ]
  },
  {
   "cell_type": "code",
   "execution_count": null,
   "metadata": {
    "collapsed": true
   },
   "outputs": [],
   "source": []
  }
 ],
 "metadata": {
  "kernelspec": {
   "display_name": "Python 3",
   "language": "python",
   "name": "python3"
  },
  "language_info": {
   "codemirror_mode": {
    "name": "ipython",
    "version": 3
   },
   "file_extension": ".py",
   "mimetype": "text/x-python",
   "name": "python",
   "nbconvert_exporter": "python",
   "pygments_lexer": "ipython3",
   "version": "3.6.0"
  }
 },
 "nbformat": 4,
 "nbformat_minor": 2
}
